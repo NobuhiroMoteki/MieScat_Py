{
 "cells": [
  {
   "cell_type": "markdown",
   "metadata": {},
   "source": [
    "#### Example of calling the `mie_complex_amplitudes.py`"
   ]
  },
  {
   "cell_type": "code",
   "execution_count": 1,
   "metadata": {},
   "outputs": [],
   "source": [
    "from mie_complex_amplitudes import mie_complex_amplitudes\n",
    "\n",
    "## Length unit is micrometer [um] in this example\n",
    "wl_0= 0.6328 # [um]\n",
    "m_m= 1.33154\n",
    "d_p= 0.803  # [um]\n",
    "m_p= 1.585+0j\n",
    "\n",
    "S_fwd_real, S_fwd_imag, S_bak_real, S_bak_imag= mie_complex_amplitudes(wl_0,m_m,d_p,m_p.real,m_p.imag,nang=3)"
   ]
  },
  {
   "cell_type": "code",
   "execution_count": 2,
   "metadata": {},
   "outputs": [
    {
     "name": "stdout",
     "output_type": "stream",
     "text": [
      "1.0897224049679828 0.9603047563034631 0.06199013747893499 -0.054037692616678824\n"
     ]
    }
   ],
   "source": [
    "print(S_fwd_real, S_fwd_imag, S_bak_real, S_bak_imag)  # [um]"
   ]
  },
  {
   "cell_type": "markdown",
   "metadata": {},
   "source": [
    "#### Example of calling the `miescat.py`"
   ]
  },
  {
   "cell_type": "code",
   "execution_count": 3,
   "metadata": {},
   "outputs": [],
   "source": [
    "from miescat import miescat\n",
    "\n",
    "## Length unit is meter [um] in this example\n",
    "wl_0= 0.83e-6 # [m]\n",
    "m_m= 1.0\n",
    "d_p= 0.4e-6  # [m]\n",
    "m_p= 1.5+0j\n",
    "dens_p= 2.7 # [g/cm3]\n",
    "\n",
    "Qsca,Qext,Qabs,Qback,S11,S22,MSC,MEC,MAC= miescat(wl_0,m_m,d_p,m_p.real,m_p.imag,dens_p,nang=3)"
   ]
  },
  {
   "cell_type": "code",
   "execution_count": 4,
   "metadata": {},
   "outputs": [
    {
     "name": "stdout",
     "output_type": "stream",
     "text": [
      "0.7734989530990761 0.7734989530990761 0.0 0.12233597371803068\n"
     ]
    }
   ],
   "source": [
    "print(Qsca,Qext,Qabs,Qback) "
   ]
  },
  {
   "cell_type": "code",
   "execution_count": 5,
   "metadata": {},
   "outputs": [
    {
     "name": "stdout",
     "output_type": "stream",
     "text": [
      "[ 1.61702694e-07+5.85546657e-08j  2.25786031e-08+1.01810847e-08j\n",
      " -1.67586162e-08-3.07003016e-08j] [1.61702694e-07+5.85546657e-08j 7.77823234e-08+4.44968858e-08j\n",
      " 1.67586162e-08+3.07003016e-08j]\n"
     ]
    }
   ],
   "source": [
    "print(S11,S22) #[m]"
   ]
  },
  {
   "cell_type": "code",
   "execution_count": 6,
   "metadata": {},
   "outputs": [
    {
     "name": "stdout",
     "output_type": "stream",
     "text": [
      "1.074304101526495 1.074304101526495 0.0\n"
     ]
    }
   ],
   "source": [
    "print(MSC,MEC,MAC) # [m2/g]"
   ]
  },
  {
   "cell_type": "markdown",
   "metadata": {},
   "source": [
    "#### Example of calling the `miescat_charged.py`"
   ]
  },
  {
   "cell_type": "code",
   "execution_count": 7,
   "metadata": {},
   "outputs": [
    {
     "data": {
      "text/plain": [
       "0.0"
      ]
     },
     "execution_count": 7,
     "metadata": {},
     "output_type": "execute_result"
    }
   ],
   "source": [
    "from miescat_charged import miescat_charged\n",
    "\n",
    "## Length unit is meter [um] in this example\n",
    "wl_0= 0.834e-6 # [m]\n",
    "d_p= 10e-9  # [m]\n",
    "m_p= 1.5+0j\n",
    "n_e= 0\n",
    "gamma_fac= 0.1\n",
    "dens_p= 2.7 # [g/cm3]\n",
    "\n",
    "surf_potential,Qsca,Qext,Qabs,Qback,S11,S22,MSC,MEC,MAC= miescat_charged(wl_0,d_p,m_p.real,m_p.imag,n_e,gamma_fac,dens_p,nang=3)\n",
    "surf_potential"
   ]
  },
  {
   "cell_type": "code",
   "execution_count": 8,
   "metadata": {},
   "outputs": [
    {
     "name": "stdout",
     "output_type": "stream",
     "text": [
      "4.6450414417513873e-07 4.645041441751388e-07 5.293955920339377e-23 6.96289476704402e-07\n"
     ]
    }
   ],
   "source": [
    "print(Qsca,Qext,Qabs,Qback) "
   ]
  },
  {
   "cell_type": "code",
   "execution_count": 9,
   "metadata": {},
   "outputs": [
    {
     "name": "stdout",
     "output_type": "stream",
     "text": [
      "[ 2.08749715e-12+2.18717447e-17j  1.39844773e-16+6.48059458e-25j\n",
      " -2.08609905e-12-2.18717425e-17j] [2.08749715e-12+2.18717447e-17j 2.08679802e-12+2.18717436e-17j\n",
      " 2.08609905e-12+2.18717425e-17j]\n"
     ]
    }
   ],
   "source": [
    "print(S11,S22) #[m]"
   ]
  },
  {
   "cell_type": "code",
   "execution_count": 10,
   "metadata": {},
   "outputs": [
    {
     "data": {
      "text/plain": [
       "28.799290937335634"
      ]
     },
     "execution_count": 10,
     "metadata": {},
     "output_type": "execute_result"
    }
   ],
   "source": [
    "## Length unit is meter [um] in this example\n",
    "wl_0= 0.834e-6 # [m]\n",
    "d_p= 10e-9  # [m]\n",
    "m_p= 1.5+0j\n",
    "n_e= 100\n",
    "gamma_fac= 0.1\n",
    "dens_p= 2.7 # [g/cm3]\n",
    "\n",
    "surf_potential,Qsca,Qext,Qabs,Qback,S11,S22,MSC,MEC,MAC= miescat_charged(wl_0,d_p,m_p.real,m_p.imag,n_e,gamma_fac,dens_p,nang=3)\n",
    "surf_potential"
   ]
  },
  {
   "cell_type": "code",
   "execution_count": 11,
   "metadata": {},
   "outputs": [
    {
     "name": "stdout",
     "output_type": "stream",
     "text": [
      "5.063018342322296e-07 3.817747515572366e-06 3.3114456813401364e-06 7.589070140846908e-07\n"
     ]
    }
   ],
   "source": [
    "print(Qsca,Qext,Qabs,Qback) "
   ]
  },
  {
   "cell_type": "code",
   "execution_count": 12,
   "metadata": {},
   "outputs": [
    {
     "name": "stdout",
     "output_type": "stream",
     "text": [
      "[ 2.17944755e-12+1.79763303e-16j  1.89267142e-16+8.62902490e-20j\n",
      " -2.17788172e-12-1.79475419e-16j] [2.17944755e-12+1.79763303e-16j 2.17866455e-12+1.79619336e-16j\n",
      " 2.17788172e-12+1.79475419e-16j]\n"
     ]
    }
   ],
   "source": [
    "print(S11,S22) #[m]"
   ]
  }
 ],
 "metadata": {
  "kernelspec": {
   "display_name": "myenv",
   "language": "python",
   "name": "python3"
  },
  "language_info": {
   "codemirror_mode": {
    "name": "ipython",
    "version": 3
   },
   "file_extension": ".py",
   "mimetype": "text/x-python",
   "name": "python",
   "nbconvert_exporter": "python",
   "pygments_lexer": "ipython3",
   "version": "3.12.8"
  },
  "orig_nbformat": 4
 },
 "nbformat": 4,
 "nbformat_minor": 2
}
