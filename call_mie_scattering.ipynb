{
 "cells": [
  {
   "cell_type": "markdown",
   "metadata": {},
   "source": [
    "#### Example of calling the `mie_complex_amplitudes.py`"
   ]
  },
  {
   "cell_type": "code",
   "execution_count": null,
   "metadata": {},
   "outputs": [],
   "source": [
    "from mie_complex_amplitudes import mie_complex_amplitudes\n",
    "\n",
    "## Length unit is micrometer [um] in this example\n",
    "wl_0= 0.6328 # [um]\n",
    "m_m= 1.33154\n",
    "d_p= 0.803  # [um]\n",
    "m_p= 1.585+0j\n",
    "\n",
    "S_fwd_real, S_fwd_imag, S_bak_real, S_bak_imag= mie_complex_amplitudes(wl_0,m_m,d_p,m_p.real,m_p.imag,nang=3)"
   ]
  },
  {
   "cell_type": "code",
   "execution_count": null,
   "metadata": {},
   "outputs": [],
   "source": [
    "print(S_fwd_real, S_fwd_imag, S_bak_real, S_bak_imag)  # [um]"
   ]
  },
  {
   "cell_type": "markdown",
   "metadata": {},
   "source": [
    "#### Example of calling the `miescat.py`"
   ]
  },
  {
   "cell_type": "code",
   "execution_count": null,
   "metadata": {},
   "outputs": [],
   "source": [
    "from miescat import miescat\n",
    "\n",
    "## Length unit is meter [um] in this example\n",
    "wl_0= 0.55e-6 # [m]\n",
    "m_m= 1.0\n",
    "d_p= 0.5e-6  # [m]\n",
    "m_p= 1.5+0j\n",
    "dens_p= 2.7 # [g/cm3]\n",
    "\n",
    "Qsca,Qext,Qabs,Qback,S11,S22,MSC,MEC,MAC= miescat(wl_0,m_m,d_p,m_p.real,m_p.imag,dens_p,nang=3)"
   ]
  },
  {
   "cell_type": "code",
   "execution_count": null,
   "metadata": {},
   "outputs": [],
   "source": [
    "print(Qsca,Qext,Qabs,Qback) "
   ]
  },
  {
   "cell_type": "code",
   "execution_count": null,
   "metadata": {},
   "outputs": [],
   "source": [
    "print(S11,S22) #[m]"
   ]
  },
  {
   "cell_type": "code",
   "execution_count": null,
   "metadata": {},
   "outputs": [],
   "source": [
    "print(MSC,MEC,MAC) # [m2/g]"
   ]
  }
 ],
 "metadata": {
  "kernelspec": {
   "display_name": "myenv",
   "language": "python",
   "name": "python3"
  },
  "language_info": {
   "codemirror_mode": {
    "name": "ipython",
    "version": 3
   },
   "file_extension": ".py",
   "mimetype": "text/x-python",
   "name": "python",
   "nbconvert_exporter": "python",
   "pygments_lexer": "ipython3",
   "version": "3.12.8"
  },
  "orig_nbformat": 4
 },
 "nbformat": 4,
 "nbformat_minor": 2
}
