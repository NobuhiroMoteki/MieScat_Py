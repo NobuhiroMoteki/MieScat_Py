{
 "cells": [
  {
   "cell_type": "markdown",
   "metadata": {},
   "source": [
    "#### Make a F_table for spherical particles using the `mie_complex_amplitudes.py`"
   ]
  },
  {
   "cell_type": "code",
   "execution_count": null,
   "metadata": {},
   "outputs": [],
   "source": [
    "import numpy as np\n",
    "import pandas as pd\n",
    "from mie_complex_amplitudes import mie_complex_amplitudes\n",
    "import matplotlib.pyplot as plt \n",
    "\n",
    "## Length unit is micrometer [um] in this example\n",
    "wl_0= 0.834 # [um]\n",
    "m_m= 1.329\n",
    "k_m = 2*np.pi*m_m/wl_0 # wavenumber in medium [um-1]\n",
    "\n",
    "#Gold @ wl_0= 0.834 # [um]\n",
    "m_p_Au = 0.1618 + 5.189j\n",
    "\n",
    "ofname = \"S_table_Mie_Au_wl_0=\" + str(wl_0) +\"_m_m=\"+str(m_m) + \".parquet\"\n",
    "\n",
    "Ngrid_d_p= 97\n",
    "Ngrid_m_p_real= 21\n",
    "Ngrid_m_p_imag= 21\n",
    "\n",
    "#log10(d_p[um]) array\n",
    "log10_d_p_arr = np.linspace(-1.4, -0.2, Ngrid_d_p)  # d_p_min = ~0.04 um, d_p_max = ~0.631 um, delta_log10(d_p) = 0.025\n",
    "#Re(m_p) array\n",
    "m_p_real_arr = np.linspace(0.10, 0.30, Ngrid_m_p_real)  # m_p_real_min = 0.10, m_p_real_max = 0.30, delta_m_p_real = 0.01\n",
    "#Im(m_p) array\n",
    "m_p_imag_arr = np.linspace(4.0, 6.0, Ngrid_m_p_imag)  # m_p_real_min = 4.0, m_p_real_max = 6.0, delta_m_p_real = 0.1\n",
    "\n",
    "num_cols = 5  # log_d_p, m_p_real, m_p_imag, F_real, F_imag\n",
    "num_rows = Ngrid_d_p*Ngrid_m_p_real*Ngrid_m_p_imag\n",
    "S_table = np.zeros((num_rows, num_cols))\n",
    "\n",
    "#log10_d_p_arr, 10**log10_d_p_arr"
   ]
  },
  {
   "cell_type": "code",
   "execution_count": null,
   "metadata": {},
   "outputs": [],
   "source": [
    "for i_log10_d_p, log10_d_p in enumerate(log10_d_p_arr):\n",
    "    d_p = 10**log10_d_p\n",
    "    v_p = (np.pi/6)*d_p**3\n",
    "    for i_m_p_real, m_p_real in enumerate(m_p_real_arr):\n",
    "        for i_m_p_imag, m_p_imag in enumerate(m_p_imag_arr):\n",
    "            S_fwd_real, S_fwd_imag, S_bak_real, S_bak_imag= mie_complex_amplitudes(wl_0,m_m,d_p,m_p_real,m_p_imag,nang=3)\n",
    "\n",
    "            i_row = i_log10_d_p*Ngrid_m_p_real*Ngrid_m_p_imag + i_m_p_real*Ngrid_m_p_imag + i_m_p_imag\n",
    "            S_table[i_row, :] = log10_d_p, m_p_real, m_p_imag, S_fwd_real, S_fwd_imag\n",
    "df = pd.DataFrame(S_table, columns=[\"log10_d_p_um\", \"m_p_real\", \"m_p_imag\", \"S_real\", \"S_imag\"])"
   ]
  },
  {
   "cell_type": "code",
   "execution_count": null,
   "metadata": {},
   "outputs": [],
   "source": [
    "df"
   ]
  },
  {
   "cell_type": "code",
   "execution_count": null,
   "metadata": {},
   "outputs": [],
   "source": [
    "df.to_parquet(ofname, index = False)\n",
    "df1 = pd.read_parquet(ofname)\n",
    "\n",
    "df1.tail(10)"
   ]
  },
  {
   "cell_type": "markdown",
   "metadata": {},
   "source": [
    "#### Simulated Au data ####"
   ]
  },
  {
   "cell_type": "code",
   "execution_count": null,
   "metadata": {},
   "outputs": [],
   "source": [
    "Ngrid_d_p = 11\n",
    "log10d_p_arr = np.linspace(-0.55, -0.5, Ngrid_d_p)\n",
    "simulated_S_data = np.zeros((Ngrid_d_p, 2))\n",
    "for i_log10_d_p, log10_d_p in enumerate(log10d_p_arr):\n",
    "    d_p = 10**log10_d_p\n",
    "    S_fwd_real, S_fwd_imag, S_bak_real, S_bak_imag= mie_complex_amplitudes(wl_0,m_m,d_p,m_p_Au.real,m_p_Au.imag,nang=3)\n",
    "    simulated_S_data[i_log10_d_p, :] = S_fwd_real, S_fwd_imag\n",
    "np.save(\"simulated_S_data_Au.npy\",simulated_S_data)"
   ]
  },
  {
   "cell_type": "code",
   "execution_count": null,
   "metadata": {},
   "outputs": [],
   "source": [
    "plt.scatter(simulated_S_data[:,0],simulated_S_data[:,1])\n",
    "plt.xlim(0,0.15)\n",
    "plt.ylim(0,0.4)"
   ]
  },
  {
   "cell_type": "code",
   "execution_count": null,
   "metadata": {},
   "outputs": [],
   "source": []
  },
  {
   "cell_type": "code",
   "execution_count": null,
   "metadata": {},
   "outputs": [],
   "source": []
  }
 ],
 "metadata": {
  "kernelspec": {
   "display_name": "myenv",
   "language": "python",
   "name": "python3"
  },
  "language_info": {
   "codemirror_mode": {
    "name": "ipython",
    "version": 3
   },
   "file_extension": ".py",
   "mimetype": "text/x-python",
   "name": "python",
   "nbconvert_exporter": "python",
   "pygments_lexer": "ipython3",
   "version": "3.12.8"
  },
  "orig_nbformat": 4
 },
 "nbformat": 4,
 "nbformat_minor": 2
}
